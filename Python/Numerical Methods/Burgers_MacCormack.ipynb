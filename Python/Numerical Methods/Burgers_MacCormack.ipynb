{
 "metadata": {
  "language_info": {
   "codemirror_mode": {
    "name": "ipython",
    "version": 3
   },
   "file_extension": ".py",
   "mimetype": "text/x-python",
   "name": "python",
   "nbconvert_exporter": "python",
   "pygments_lexer": "ipython3",
   "version": "3.6.9"
  },
  "orig_nbformat": 2,
  "kernelspec": {
   "name": "python369jvsc74a57bd031f2aee4e71d21fbe5cf8b01ff0e069b9275f58929596ceb00d14d90e3e16cd6",
   "display_name": "Python 3.6.9 64-bit"
  },
  "metadata": {
   "interpreter": {
    "hash": "31f2aee4e71d21fbe5cf8b01ff0e069b9275f58929596ceb00d14d90e3e16cd6"
   }
  }
 },
 "nbformat": 4,
 "nbformat_minor": 2,
 "cells": [
  {
   "source": [
    "# Burgers with MacCormack\n",
    "\n",
    "Conside the 1D Burgers equation:\n",
    "\n",
    "\\begin{equation}\n",
    "\\frac{\\partial  u}{\\partial t}=-u\\frac{\\partial u}{\\partial x}\n",
    "\\end{equation}\n",
    "\n",
    "We want to represent this in conservative forms so that we can better deal with potential shocks, which gives us:\n",
    "\n",
    "\\begin{equation}\n",
    "\\frac{\\partial u}{\\partial t}=-\\frac{\\partial }{\\partial x}\\left(\\frac{u^2}{2}\\right)\n",
    "\\end{equation}\n",
    "\n",
    "We can also write this as:\n",
    "\n",
    "\\begin{equation}\n",
    "\\frac{\\partial u}{\\partial t}=-\\frac{\\partial F}{\\partial x}\n",
    "\\end{equation}\n",
    "\n",
    "If we take $F=\\frac{u^2}{2}$. Start with a Heaviside function (a sep function) with the following values:\n",
    "\n",
    "\\begin{equation}\n",
    "u(x,0)=\\left\\{\\begin{array}{cc} 1 & 0\\leq x<2 \\\\ 0 & 2\\leq x\\leq 4 \\end{array}\\right.\n",
    "\\end{equation}"
   ],
   "cell_type": "markdown",
   "metadata": {}
  },
  {
   "cell_type": "code",
   "execution_count": 1,
   "metadata": {},
   "outputs": [],
   "source": [
    "import numpy as np\n",
    "import matplotlib.pyplot as plt\n",
    "from numba import njit\n",
    "from matplotlib.animation import FuncAnimation\n",
    "from jupyterthemes import jtplot\n",
    "jtplot.style(theme='monokai')"
   ]
  },
  {
   "source": [
    "Create the initial conditions for $u(x,0)$."
   ],
   "cell_type": "markdown",
   "metadata": {}
  },
  {
   "cell_type": "code",
   "execution_count": 2,
   "metadata": {},
   "outputs": [],
   "source": [
    "#@njit()\n",
    "def IC(Nx,Nt,x):\n",
    "    u=np.zeros((Nx,Nt)) #Create the matrix\n",
    "    mask=np.where(x<2) #Create a mask where x is less than 2\n",
    "    #Now, create a loop to put the initial values.\n",
    "    for i in range(len(mask[-1])):\n",
    "        u[i,0]=1\n",
    "    return u"
   ]
  },
  {
   "source": [
    "Now, you can use the MacCormack method to solve the PDE. The MacCormack scheme is:\n",
    "\n",
    "\\begin{equation}\n",
    "\\large\\begin{array}{cc}\n",
    "u_i^*=u_i^n-\\frac{\\Delta t}{\\Delta x}(F_{i+1}^n+F_i^n) & \\text{Predictor} \\\\\n",
    "u_i^{n+1}=\\frac{1}{2}\\left(u_{i}^n+u_i^*-\\frac{\\Delta t}{\\Delta x}(F_i^*-F_{i-1}^*)\\right) & \\text{Corrector}\n",
    "\\end{array}\n",
    "\\end{equation}\n",
    "\n",
    "Remember that\n",
    "\n",
    "\\begin{equation}\n",
    "F=\\frac{u^2}{2}\n",
    "\\end{equation}\n",
    "\n",
    "You can create two functions to solve this system"
   ],
   "cell_type": "markdown",
   "metadata": {}
  },
  {
   "cell_type": "code",
   "execution_count": 3,
   "metadata": {},
   "outputs": [],
   "source": [
    "#@njit()\n",
    "def F(u):\n",
    "    return u**2/2\n",
    "\n",
    "#@njit()\n",
    "def u_star(u,k,i,j):\n",
    "    return u[i,j]-k*(F(u[i+1,j])-F(u[i,j]))\n",
    "\n",
    "#@njit()\n",
    "def solution(Nx,Nt,x,dx,dt):\n",
    "    u=IC(Nx,Nt,x) #Use the function to create the matrix and put the IC\n",
    "    k=dt/dx       #For simplicity\n",
    "    for j in range(Nt-1):\n",
    "        for i in range(Nx-1):\n",
    "            u[i,j+1]=0.5*(u[i,j]+u_star(u,k,i,j)-k*(F(u_star(u,k,i,j))-F(u_star(u,k,i-1,j))))\n",
    "        u[0,j+1]=1\n",
    "    return u"
   ]
  },
  {
   "source": [
    "Use $N_x=81$, $N_t=70$ and $\\Delta t=0.5\\Delta x$. "
   ],
   "cell_type": "markdown",
   "metadata": {}
  },
  {
   "cell_type": "code",
   "execution_count": 4,
   "metadata": {},
   "outputs": [],
   "source": [
    "Nx=81\n",
    "Nt=70\n",
    "x=np.linspace(0,4,Nx)\n",
    "dx=4/(Nx-1)\n",
    "dt=0.5*dx\n",
    "\n",
    "u=solution(Nx,Nt,x,dx,dt)"
   ]
  },
  {
   "source": [
    "Create an animate plot."
   ],
   "cell_type": "markdown",
   "metadata": {}
  },
  {
   "cell_type": "code",
   "execution_count": 5,
   "metadata": {},
   "outputs": [
    {
     "output_type": "stream",
     "name": "stdout",
     "text": [
      "CPU times: user 10.3 s, sys: 481 ms, total: 10.8 s\nWall time: 11.4 s\n"
     ]
    }
   ],
   "source": [
    "fig,axs=plt.subplots(1,figsize=(12,5))\n",
    "line,=axs.plot([],[],color='teal',marker='o',markevery=5)\n",
    "axs.set_xlim(x.min(),x.max())\n",
    "axs.set_ylim(u.min()-0.5,u.max()+0.5)\n",
    "axs.set_grid(False)\n",
    "\n",
    "def animate(i):\n",
    "    global x,u\n",
    "    #axs.clear_collections()\n",
    "    line.set_data(x,u[:,i])\n",
    "    return line,\n",
    "\n",
    "anim=FuncAnimation(fig,animate,frames=Nt,interval=60,blit=True)\n",
    "plt.close()\n",
    "%time anim.save('xd.mp4',fps=20)"
   ]
  },
  {
   "source": [
    "\\begin{equation}\n",
    "u_i^*=u_i^n-\\frac{\\Delta t}{\\Delta x}(F_{i+1}^n+F_i^n)+\\epsilon(u_{i+1}^n-2u_i^n+u_{i-1}^n)\n",
    "\\end{equation}"
   ],
   "cell_type": "markdown",
   "metadata": {}
  },
  {
   "cell_type": "code",
   "execution_count": 46,
   "metadata": {},
   "outputs": [
    {
     "output_type": "stream",
     "name": "stdout",
     "text": [
      "CPU times: user 4.9 s, sys: 246 ms, total: 5.15 s\nWall time: 5.47 s\n"
     ]
    }
   ],
   "source": [
    "def u_star(u,k,i,j):\n",
    "    global epsilon\n",
    "    if (i==0):\n",
    "        return u[i,j]-k*(F(u[i+1,j])-F(u[i,j]))+epsilon*(u[i+1,j]-u[i,j])\n",
    "    else:\n",
    "        return u[i,j]-k*(F(u[i+1,j])-F(u[i,j]))+epsilon*(u[i+1,j]-2*u[i,j]+u[i-1,j])\n",
    "\n",
    "epsilon=0.5\n",
    "u=solution(Nx,Nt,x,dx,dt)\n",
    "\n",
    "anim=FuncAnimation(fig,animate,frames=Nt,interval=60,blit=True)\n",
    "\n",
    "%time anim.save('xd2.mp4',fps=20)"
   ]
  },
  {
   "cell_type": "code",
   "execution_count": 44,
   "metadata": {},
   "outputs": [
    {
     "output_type": "execute_result",
     "data": {
      "text/plain": [
       "[<matplotlib.lines.Line2D at 0x7f0f004c66d8>]"
      ]
     },
     "metadata": {},
     "execution_count": 44
    },
    {
     "output_type": "display_data",
     "data": {
      "text/plain": "<Figure size 460.8x403.2 with 1 Axes>",
      "image/svg+xml": "<?xml version=\"1.0\" encoding=\"utf-8\" standalone=\"no\"?>\n<!DOCTYPE svg PUBLIC \"-//W3C//DTD SVG 1.1//EN\"\n  \"http://www.w3.org/Graphics/SVG/1.1/DTD/svg11.dtd\">\n<!-- Created with matplotlib (https://matplotlib.org/) -->\n<svg height=\"336.610438pt\" version=\"1.1\" viewBox=\"0 0 397.157937 336.610438\" width=\"397.157937pt\" xmlns=\"http://www.w3.org/2000/svg\" xmlns:xlink=\"http://www.w3.org/1999/xlink\">\n <metadata>\n  <rdf:RDF xmlns:cc=\"http://creativecommons.org/ns#\" xmlns:dc=\"http://purl.org/dc/elements/1.1/\" xmlns:rdf=\"http://www.w3.org/1999/02/22-rdf-syntax-ns#\">\n   <cc:Work>\n    <dc:type rdf:resource=\"http://purl.org/dc/dcmitype/StillImage\"/>\n    <dc:date>2021-05-18T22:12:15.365413</dc:date>\n    <dc:format>image/svg+xml</dc:format>\n    <dc:creator>\n     <cc:Agent>\n      <dc:title>Matplotlib v3.3.1, https://matplotlib.org/</dc:title>\n     </cc:Agent>\n    </dc:creator>\n   </cc:Work>\n  </rdf:RDF>\n </metadata>\n <defs>\n  <style type=\"text/css\">*{stroke-linecap:butt;stroke-linejoin:round;}</style>\n </defs>\n <g id=\"figure_1\">\n  <g id=\"patch_1\">\n   <path d=\"M 0 336.610438 \nL 397.157937 336.610438 \nL 397.157937 0 \nL 0 0 \nz\n\" style=\"fill:#232323;\"/>\n  </g>\n  <g id=\"axes_1\">\n   <g id=\"patch_2\">\n    <path d=\"M 32.837938 311.616 \nL 389.957938 311.616 \nL 389.957938 7.2 \nL 32.837938 7.2 \nz\n\" style=\"fill:#232323;\"/>\n   </g>\n   <g id=\"matplotlib.axis_1\">\n    <g id=\"xtick_1\">\n     <g id=\"line2d_1\">\n      <path clip-path=\"url(#pd71ce096e6)\" d=\"M 49.070665 311.616 \nL 49.070665 7.2 \n\" style=\"fill:none;stroke:#303030;stroke-linecap:square;stroke-width:1.12;\"/>\n     </g>\n     <g id=\"line2d_2\"/>\n     <g id=\"text_1\">\n      <!-- 0.0 -->\n      <g style=\"fill:#bbbbbb;\" transform=\"translate(39.051696 326.790031)scale(0.126 -0.126)\">\n       <defs>\n        <path d=\"M 31.78125 66.40625 \nQ 24.171875 66.40625 20.328125 58.90625 \nQ 16.5 51.421875 16.5 36.375 \nQ 16.5 21.390625 20.328125 13.890625 \nQ 24.171875 6.390625 31.78125 6.390625 \nQ 39.453125 6.390625 43.28125 13.890625 \nQ 47.125 21.390625 47.125 36.375 \nQ 47.125 51.421875 43.28125 58.90625 \nQ 39.453125 66.40625 31.78125 66.40625 \nz\nM 31.78125 74.21875 \nQ 44.046875 74.21875 50.515625 64.515625 \nQ 56.984375 54.828125 56.984375 36.375 \nQ 56.984375 17.96875 50.515625 8.265625 \nQ 44.046875 -1.421875 31.78125 -1.421875 \nQ 19.53125 -1.421875 13.0625 8.265625 \nQ 6.59375 17.96875 6.59375 36.375 \nQ 6.59375 54.828125 13.0625 64.515625 \nQ 19.53125 74.21875 31.78125 74.21875 \nz\n\" id=\"DejaVuSans-48\"/>\n        <path d=\"M 10.6875 12.40625 \nL 21 12.40625 \nL 21 0 \nL 10.6875 0 \nz\n\" id=\"DejaVuSans-46\"/>\n       </defs>\n       <use xlink:href=\"#DejaVuSans-48\"/>\n       <use x=\"63.623047\" xlink:href=\"#DejaVuSans-46\"/>\n       <use x=\"95.410156\" xlink:href=\"#DejaVuSans-48\"/>\n      </g>\n     </g>\n    </g>\n    <g id=\"xtick_2\">\n     <g id=\"line2d_3\">\n      <path clip-path=\"url(#pd71ce096e6)\" d=\"M 89.652483 311.616 \nL 89.652483 7.2 \n\" style=\"fill:none;stroke:#303030;stroke-linecap:square;stroke-width:1.12;\"/>\n     </g>\n     <g id=\"line2d_4\"/>\n     <g id=\"text_2\">\n      <!-- 0.5 -->\n      <g style=\"fill:#bbbbbb;\" transform=\"translate(79.633514 326.790031)scale(0.126 -0.126)\">\n       <defs>\n        <path d=\"M 10.796875 72.90625 \nL 49.515625 72.90625 \nL 49.515625 64.59375 \nL 19.828125 64.59375 \nL 19.828125 46.734375 \nQ 21.96875 47.46875 24.109375 47.828125 \nQ 26.265625 48.1875 28.421875 48.1875 \nQ 40.625 48.1875 47.75 41.5 \nQ 54.890625 34.8125 54.890625 23.390625 \nQ 54.890625 11.625 47.5625 5.09375 \nQ 40.234375 -1.421875 26.90625 -1.421875 \nQ 22.3125 -1.421875 17.546875 -0.640625 \nQ 12.796875 0.140625 7.71875 1.703125 \nL 7.71875 11.625 \nQ 12.109375 9.234375 16.796875 8.0625 \nQ 21.484375 6.890625 26.703125 6.890625 \nQ 35.15625 6.890625 40.078125 11.328125 \nQ 45.015625 15.765625 45.015625 23.390625 \nQ 45.015625 31 40.078125 35.4375 \nQ 35.15625 39.890625 26.703125 39.890625 \nQ 22.75 39.890625 18.8125 39.015625 \nQ 14.890625 38.140625 10.796875 36.28125 \nz\n\" id=\"DejaVuSans-53\"/>\n       </defs>\n       <use xlink:href=\"#DejaVuSans-48\"/>\n       <use x=\"63.623047\" xlink:href=\"#DejaVuSans-46\"/>\n       <use x=\"95.410156\" xlink:href=\"#DejaVuSans-53\"/>\n      </g>\n     </g>\n    </g>\n    <g id=\"xtick_3\">\n     <g id=\"line2d_5\">\n      <path clip-path=\"url(#pd71ce096e6)\" d=\"M 130.234301 311.616 \nL 130.234301 7.2 \n\" style=\"fill:none;stroke:#303030;stroke-linecap:square;stroke-width:1.12;\"/>\n     </g>\n     <g id=\"line2d_6\"/>\n     <g id=\"text_3\">\n      <!-- 1.0 -->\n      <g style=\"fill:#bbbbbb;\" transform=\"translate(120.215332 326.790031)scale(0.126 -0.126)\">\n       <defs>\n        <path d=\"M 12.40625 8.296875 \nL 28.515625 8.296875 \nL 28.515625 63.921875 \nL 10.984375 60.40625 \nL 10.984375 69.390625 \nL 28.421875 72.90625 \nL 38.28125 72.90625 \nL 38.28125 8.296875 \nL 54.390625 8.296875 \nL 54.390625 0 \nL 12.40625 0 \nz\n\" id=\"DejaVuSans-49\"/>\n       </defs>\n       <use xlink:href=\"#DejaVuSans-49\"/>\n       <use x=\"63.623047\" xlink:href=\"#DejaVuSans-46\"/>\n       <use x=\"95.410156\" xlink:href=\"#DejaVuSans-48\"/>\n      </g>\n     </g>\n    </g>\n    <g id=\"xtick_4\">\n     <g id=\"line2d_7\">\n      <path clip-path=\"url(#pd71ce096e6)\" d=\"M 170.816119 311.616 \nL 170.816119 7.2 \n\" style=\"fill:none;stroke:#303030;stroke-linecap:square;stroke-width:1.12;\"/>\n     </g>\n     <g id=\"line2d_8\"/>\n     <g id=\"text_4\">\n      <!-- 1.5 -->\n      <g style=\"fill:#bbbbbb;\" transform=\"translate(160.797151 326.790031)scale(0.126 -0.126)\">\n       <use xlink:href=\"#DejaVuSans-49\"/>\n       <use x=\"63.623047\" xlink:href=\"#DejaVuSans-46\"/>\n       <use x=\"95.410156\" xlink:href=\"#DejaVuSans-53\"/>\n      </g>\n     </g>\n    </g>\n    <g id=\"xtick_5\">\n     <g id=\"line2d_9\">\n      <path clip-path=\"url(#pd71ce096e6)\" d=\"M 211.397937 311.616 \nL 211.397937 7.2 \n\" style=\"fill:none;stroke:#303030;stroke-linecap:square;stroke-width:1.12;\"/>\n     </g>\n     <g id=\"line2d_10\"/>\n     <g id=\"text_5\">\n      <!-- 2.0 -->\n      <g style=\"fill:#bbbbbb;\" transform=\"translate(201.378969 326.790031)scale(0.126 -0.126)\">\n       <defs>\n        <path d=\"M 19.1875 8.296875 \nL 53.609375 8.296875 \nL 53.609375 0 \nL 7.328125 0 \nL 7.328125 8.296875 \nQ 12.9375 14.109375 22.625 23.890625 \nQ 32.328125 33.6875 34.8125 36.53125 \nQ 39.546875 41.84375 41.421875 45.53125 \nQ 43.3125 49.21875 43.3125 52.78125 \nQ 43.3125 58.59375 39.234375 62.25 \nQ 35.15625 65.921875 28.609375 65.921875 \nQ 23.96875 65.921875 18.8125 64.3125 \nQ 13.671875 62.703125 7.8125 59.421875 \nL 7.8125 69.390625 \nQ 13.765625 71.78125 18.9375 73 \nQ 24.125 74.21875 28.421875 74.21875 \nQ 39.75 74.21875 46.484375 68.546875 \nQ 53.21875 62.890625 53.21875 53.421875 \nQ 53.21875 48.921875 51.53125 44.890625 \nQ 49.859375 40.875 45.40625 35.40625 \nQ 44.1875 33.984375 37.640625 27.21875 \nQ 31.109375 20.453125 19.1875 8.296875 \nz\n\" id=\"DejaVuSans-50\"/>\n       </defs>\n       <use xlink:href=\"#DejaVuSans-50\"/>\n       <use x=\"63.623047\" xlink:href=\"#DejaVuSans-46\"/>\n       <use x=\"95.410156\" xlink:href=\"#DejaVuSans-48\"/>\n      </g>\n     </g>\n    </g>\n    <g id=\"xtick_6\">\n     <g id=\"line2d_11\">\n      <path clip-path=\"url(#pd71ce096e6)\" d=\"M 251.979756 311.616 \nL 251.979756 7.2 \n\" style=\"fill:none;stroke:#303030;stroke-linecap:square;stroke-width:1.12;\"/>\n     </g>\n     <g id=\"line2d_12\"/>\n     <g id=\"text_6\">\n      <!-- 2.5 -->\n      <g style=\"fill:#bbbbbb;\" transform=\"translate(241.960787 326.790031)scale(0.126 -0.126)\">\n       <use xlink:href=\"#DejaVuSans-50\"/>\n       <use x=\"63.623047\" xlink:href=\"#DejaVuSans-46\"/>\n       <use x=\"95.410156\" xlink:href=\"#DejaVuSans-53\"/>\n      </g>\n     </g>\n    </g>\n    <g id=\"xtick_7\">\n     <g id=\"line2d_13\">\n      <path clip-path=\"url(#pd71ce096e6)\" d=\"M 292.561574 311.616 \nL 292.561574 7.2 \n\" style=\"fill:none;stroke:#303030;stroke-linecap:square;stroke-width:1.12;\"/>\n     </g>\n     <g id=\"line2d_14\"/>\n     <g id=\"text_7\">\n      <!-- 3.0 -->\n      <g style=\"fill:#bbbbbb;\" transform=\"translate(282.542605 326.790031)scale(0.126 -0.126)\">\n       <defs>\n        <path d=\"M 40.578125 39.3125 \nQ 47.65625 37.796875 51.625 33 \nQ 55.609375 28.21875 55.609375 21.1875 \nQ 55.609375 10.40625 48.1875 4.484375 \nQ 40.765625 -1.421875 27.09375 -1.421875 \nQ 22.515625 -1.421875 17.65625 -0.515625 \nQ 12.796875 0.390625 7.625 2.203125 \nL 7.625 11.71875 \nQ 11.71875 9.328125 16.59375 8.109375 \nQ 21.484375 6.890625 26.8125 6.890625 \nQ 36.078125 6.890625 40.9375 10.546875 \nQ 45.796875 14.203125 45.796875 21.1875 \nQ 45.796875 27.640625 41.28125 31.265625 \nQ 36.765625 34.90625 28.71875 34.90625 \nL 20.21875 34.90625 \nL 20.21875 43.015625 \nL 29.109375 43.015625 \nQ 36.375 43.015625 40.234375 45.921875 \nQ 44.09375 48.828125 44.09375 54.296875 \nQ 44.09375 59.90625 40.109375 62.90625 \nQ 36.140625 65.921875 28.71875 65.921875 \nQ 24.65625 65.921875 20.015625 65.03125 \nQ 15.375 64.15625 9.8125 62.3125 \nL 9.8125 71.09375 \nQ 15.4375 72.65625 20.34375 73.4375 \nQ 25.25 74.21875 29.59375 74.21875 \nQ 40.828125 74.21875 47.359375 69.109375 \nQ 53.90625 64.015625 53.90625 55.328125 \nQ 53.90625 49.265625 50.4375 45.09375 \nQ 46.96875 40.921875 40.578125 39.3125 \nz\n\" id=\"DejaVuSans-51\"/>\n       </defs>\n       <use xlink:href=\"#DejaVuSans-51\"/>\n       <use x=\"63.623047\" xlink:href=\"#DejaVuSans-46\"/>\n       <use x=\"95.410156\" xlink:href=\"#DejaVuSans-48\"/>\n      </g>\n     </g>\n    </g>\n    <g id=\"xtick_8\">\n     <g id=\"line2d_15\">\n      <path clip-path=\"url(#pd71ce096e6)\" d=\"M 333.143392 311.616 \nL 333.143392 7.2 \n\" style=\"fill:none;stroke:#303030;stroke-linecap:square;stroke-width:1.12;\"/>\n     </g>\n     <g id=\"line2d_16\"/>\n     <g id=\"text_8\">\n      <!-- 3.5 -->\n      <g style=\"fill:#bbbbbb;\" transform=\"translate(323.124423 326.790031)scale(0.126 -0.126)\">\n       <use xlink:href=\"#DejaVuSans-51\"/>\n       <use x=\"63.623047\" xlink:href=\"#DejaVuSans-46\"/>\n       <use x=\"95.410156\" xlink:href=\"#DejaVuSans-53\"/>\n      </g>\n     </g>\n    </g>\n    <g id=\"xtick_9\">\n     <g id=\"line2d_17\">\n      <path clip-path=\"url(#pd71ce096e6)\" d=\"M 373.72521 311.616 \nL 373.72521 7.2 \n\" style=\"fill:none;stroke:#303030;stroke-linecap:square;stroke-width:1.12;\"/>\n     </g>\n     <g id=\"line2d_18\"/>\n     <g id=\"text_9\">\n      <!-- 4.0 -->\n      <g style=\"fill:#bbbbbb;\" transform=\"translate(363.706241 326.790031)scale(0.126 -0.126)\">\n       <defs>\n        <path d=\"M 37.796875 64.3125 \nL 12.890625 25.390625 \nL 37.796875 25.390625 \nz\nM 35.203125 72.90625 \nL 47.609375 72.90625 \nL 47.609375 25.390625 \nL 58.015625 25.390625 \nL 58.015625 17.1875 \nL 47.609375 17.1875 \nL 47.609375 0 \nL 37.796875 0 \nL 37.796875 17.1875 \nL 4.890625 17.1875 \nL 4.890625 26.703125 \nz\n\" id=\"DejaVuSans-52\"/>\n       </defs>\n       <use xlink:href=\"#DejaVuSans-52\"/>\n       <use x=\"63.623047\" xlink:href=\"#DejaVuSans-46\"/>\n       <use x=\"95.410156\" xlink:href=\"#DejaVuSans-48\"/>\n      </g>\n     </g>\n    </g>\n   </g>\n   <g id=\"matplotlib.axis_2\">\n    <g id=\"ytick_1\">\n     <g id=\"line2d_19\">\n      <path clip-path=\"url(#pd71ce096e6)\" d=\"M 32.837938 297.778909 \nL 389.957938 297.778909 \n\" style=\"fill:none;stroke:#303030;stroke-linecap:square;stroke-width:1.12;\"/>\n     </g>\n     <g id=\"line2d_20\"/>\n     <g id=\"text_10\">\n      <!-- 0.0 -->\n      <g style=\"fill:#bbbbbb;\" transform=\"translate(7.2 302.565925)scale(0.126 -0.126)\">\n       <use xlink:href=\"#DejaVuSans-48\"/>\n       <use x=\"63.623047\" xlink:href=\"#DejaVuSans-46\"/>\n       <use x=\"95.410156\" xlink:href=\"#DejaVuSans-48\"/>\n      </g>\n     </g>\n    </g>\n    <g id=\"ytick_2\">\n     <g id=\"line2d_21\">\n      <path clip-path=\"url(#pd71ce096e6)\" d=\"M 32.837938 242.430545 \nL 389.957938 242.430545 \n\" style=\"fill:none;stroke:#303030;stroke-linecap:square;stroke-width:1.12;\"/>\n     </g>\n     <g id=\"line2d_22\"/>\n     <g id=\"text_11\">\n      <!-- 0.2 -->\n      <g style=\"fill:#bbbbbb;\" transform=\"translate(7.2 247.217561)scale(0.126 -0.126)\">\n       <use xlink:href=\"#DejaVuSans-48\"/>\n       <use x=\"63.623047\" xlink:href=\"#DejaVuSans-46\"/>\n       <use x=\"95.410156\" xlink:href=\"#DejaVuSans-50\"/>\n      </g>\n     </g>\n    </g>\n    <g id=\"ytick_3\">\n     <g id=\"line2d_23\">\n      <path clip-path=\"url(#pd71ce096e6)\" d=\"M 32.837938 187.082182 \nL 389.957938 187.082182 \n\" style=\"fill:none;stroke:#303030;stroke-linecap:square;stroke-width:1.12;\"/>\n     </g>\n     <g id=\"line2d_24\"/>\n     <g id=\"text_12\">\n      <!-- 0.4 -->\n      <g style=\"fill:#bbbbbb;\" transform=\"translate(7.2 191.869197)scale(0.126 -0.126)\">\n       <use xlink:href=\"#DejaVuSans-48\"/>\n       <use x=\"63.623047\" xlink:href=\"#DejaVuSans-46\"/>\n       <use x=\"95.410156\" xlink:href=\"#DejaVuSans-52\"/>\n      </g>\n     </g>\n    </g>\n    <g id=\"ytick_4\">\n     <g id=\"line2d_25\">\n      <path clip-path=\"url(#pd71ce096e6)\" d=\"M 32.837938 131.733818 \nL 389.957938 131.733818 \n\" style=\"fill:none;stroke:#303030;stroke-linecap:square;stroke-width:1.12;\"/>\n     </g>\n     <g id=\"line2d_26\"/>\n     <g id=\"text_13\">\n      <!-- 0.6 -->\n      <g style=\"fill:#bbbbbb;\" transform=\"translate(7.2 136.520834)scale(0.126 -0.126)\">\n       <defs>\n        <path d=\"M 33.015625 40.375 \nQ 26.375 40.375 22.484375 35.828125 \nQ 18.609375 31.296875 18.609375 23.390625 \nQ 18.609375 15.53125 22.484375 10.953125 \nQ 26.375 6.390625 33.015625 6.390625 \nQ 39.65625 6.390625 43.53125 10.953125 \nQ 47.40625 15.53125 47.40625 23.390625 \nQ 47.40625 31.296875 43.53125 35.828125 \nQ 39.65625 40.375 33.015625 40.375 \nz\nM 52.59375 71.296875 \nL 52.59375 62.3125 \nQ 48.875 64.0625 45.09375 64.984375 \nQ 41.3125 65.921875 37.59375 65.921875 \nQ 27.828125 65.921875 22.671875 59.328125 \nQ 17.53125 52.734375 16.796875 39.40625 \nQ 19.671875 43.65625 24.015625 45.921875 \nQ 28.375 48.1875 33.59375 48.1875 \nQ 44.578125 48.1875 50.953125 41.515625 \nQ 57.328125 34.859375 57.328125 23.390625 \nQ 57.328125 12.15625 50.6875 5.359375 \nQ 44.046875 -1.421875 33.015625 -1.421875 \nQ 20.359375 -1.421875 13.671875 8.265625 \nQ 6.984375 17.96875 6.984375 36.375 \nQ 6.984375 53.65625 15.1875 63.9375 \nQ 23.390625 74.21875 37.203125 74.21875 \nQ 40.921875 74.21875 44.703125 73.484375 \nQ 48.484375 72.75 52.59375 71.296875 \nz\n\" id=\"DejaVuSans-54\"/>\n       </defs>\n       <use xlink:href=\"#DejaVuSans-48\"/>\n       <use x=\"63.623047\" xlink:href=\"#DejaVuSans-46\"/>\n       <use x=\"95.410156\" xlink:href=\"#DejaVuSans-54\"/>\n      </g>\n     </g>\n    </g>\n    <g id=\"ytick_5\">\n     <g id=\"line2d_27\">\n      <path clip-path=\"url(#pd71ce096e6)\" d=\"M 32.837938 76.385455 \nL 389.957938 76.385455 \n\" style=\"fill:none;stroke:#303030;stroke-linecap:square;stroke-width:1.12;\"/>\n     </g>\n     <g id=\"line2d_28\"/>\n     <g id=\"text_14\">\n      <!-- 0.8 -->\n      <g style=\"fill:#bbbbbb;\" transform=\"translate(7.2 81.17247)scale(0.126 -0.126)\">\n       <defs>\n        <path d=\"M 31.78125 34.625 \nQ 24.75 34.625 20.71875 30.859375 \nQ 16.703125 27.09375 16.703125 20.515625 \nQ 16.703125 13.921875 20.71875 10.15625 \nQ 24.75 6.390625 31.78125 6.390625 \nQ 38.8125 6.390625 42.859375 10.171875 \nQ 46.921875 13.96875 46.921875 20.515625 \nQ 46.921875 27.09375 42.890625 30.859375 \nQ 38.875 34.625 31.78125 34.625 \nz\nM 21.921875 38.8125 \nQ 15.578125 40.375 12.03125 44.71875 \nQ 8.5 49.078125 8.5 55.328125 \nQ 8.5 64.0625 14.71875 69.140625 \nQ 20.953125 74.21875 31.78125 74.21875 \nQ 42.671875 74.21875 48.875 69.140625 \nQ 55.078125 64.0625 55.078125 55.328125 \nQ 55.078125 49.078125 51.53125 44.71875 \nQ 48 40.375 41.703125 38.8125 \nQ 48.828125 37.15625 52.796875 32.3125 \nQ 56.78125 27.484375 56.78125 20.515625 \nQ 56.78125 9.90625 50.3125 4.234375 \nQ 43.84375 -1.421875 31.78125 -1.421875 \nQ 19.734375 -1.421875 13.25 4.234375 \nQ 6.78125 9.90625 6.78125 20.515625 \nQ 6.78125 27.484375 10.78125 32.3125 \nQ 14.796875 37.15625 21.921875 38.8125 \nz\nM 18.3125 54.390625 \nQ 18.3125 48.734375 21.84375 45.5625 \nQ 25.390625 42.390625 31.78125 42.390625 \nQ 38.140625 42.390625 41.71875 45.5625 \nQ 45.3125 48.734375 45.3125 54.390625 \nQ 45.3125 60.0625 41.71875 63.234375 \nQ 38.140625 66.40625 31.78125 66.40625 \nQ 25.390625 66.40625 21.84375 63.234375 \nQ 18.3125 60.0625 18.3125 54.390625 \nz\n\" id=\"DejaVuSans-56\"/>\n       </defs>\n       <use xlink:href=\"#DejaVuSans-48\"/>\n       <use x=\"63.623047\" xlink:href=\"#DejaVuSans-46\"/>\n       <use x=\"95.410156\" xlink:href=\"#DejaVuSans-56\"/>\n      </g>\n     </g>\n    </g>\n    <g id=\"ytick_6\">\n     <g id=\"line2d_29\">\n      <path clip-path=\"url(#pd71ce096e6)\" d=\"M 32.837938 21.037091 \nL 389.957938 21.037091 \n\" style=\"fill:none;stroke:#303030;stroke-linecap:square;stroke-width:1.12;\"/>\n     </g>\n     <g id=\"line2d_30\"/>\n     <g id=\"text_15\">\n      <!-- 1.0 -->\n      <g style=\"fill:#bbbbbb;\" transform=\"translate(7.2 25.824107)scale(0.126 -0.126)\">\n       <use xlink:href=\"#DejaVuSans-49\"/>\n       <use x=\"63.623047\" xlink:href=\"#DejaVuSans-46\"/>\n       <use x=\"95.410156\" xlink:href=\"#DejaVuSans-48\"/>\n      </g>\n     </g>\n    </g>\n   </g>\n   <g id=\"line2d_31\">\n    <path clip-path=\"url(#pd71ce096e6)\" d=\"M 49.070665 21.037091 \nL 53.128847 21.037091 \nL 57.187028 21.037091 \nL 61.24521 21.037091 \nL 65.303392 21.037091 \nL 69.361574 21.037091 \nL 73.419756 21.037091 \nL 77.477937 21.037091 \nL 81.536119 21.037091 \nL 85.594301 21.037091 \nL 89.652483 21.037091 \nL 93.710665 21.037091 \nL 97.768847 21.037091 \nL 101.827028 21.037091 \nL 105.88521 21.037091 \nL 109.943392 21.037091 \nL 114.001574 21.037091 \nL 118.059756 21.037091 \nL 122.117938 21.037091 \nL 126.176119 21.037091 \nL 130.234301 21.037091 \nL 134.292483 21.037091 \nL 138.350665 21.037091 \nL 142.408847 21.037091 \nL 146.467028 21.037091 \nL 150.52521 21.037091 \nL 154.583392 21.037091 \nL 158.641574 21.037091 \nL 162.699756 21.037091 \nL 166.757937 21.037091 \nL 170.816119 21.037091 \nL 174.874301 21.037091 \nL 178.932483 21.037091 \nL 182.990665 21.037091 \nL 187.048847 21.037091 \nL 191.107028 21.037091 \nL 195.16521 21.037091 \nL 199.223392 21.037091 \nL 203.281574 21.037091 \nL 207.339756 40.4955 \nL 211.397937 217.783227 \nL 215.456119 289.130727 \nL 219.514301 297.778909 \nL 223.572483 297.778909 \nL 227.630665 297.778909 \nL 231.688847 297.778909 \nL 235.747028 297.778909 \nL 239.80521 297.778909 \nL 243.863392 297.778909 \nL 247.921574 297.778909 \nL 251.979756 297.778909 \nL 256.037937 297.778909 \nL 260.096119 297.778909 \nL 264.154301 297.778909 \nL 268.212483 297.778909 \nL 272.270665 297.778909 \nL 276.328847 297.778909 \nL 280.387028 297.778909 \nL 284.44521 297.778909 \nL 288.503392 297.778909 \nL 292.561574 297.778909 \nL 296.619756 297.778909 \nL 300.677937 297.778909 \nL 304.736119 297.778909 \nL 308.794301 297.778909 \nL 312.852483 297.778909 \nL 316.910665 297.778909 \nL 320.968847 297.778909 \nL 325.027028 297.778909 \nL 329.08521 297.778909 \nL 333.143392 297.778909 \nL 337.201574 297.778909 \nL 341.259756 297.778909 \nL 345.317938 297.778909 \nL 349.376119 297.778909 \nL 353.434301 297.778909 \nL 357.492483 297.778909 \nL 361.550665 297.778909 \nL 365.608847 297.778909 \nL 369.667028 297.778909 \nL 373.72521 297.778909 \n\" style=\"fill:none;stroke:#3572c6;stroke-linecap:square;stroke-width:1.2;\"/>\n   </g>\n   <g id=\"patch_3\">\n    <path d=\"M 32.837938 311.616 \nL 32.837938 7.2 \n\" style=\"fill:none;stroke:#888888;stroke-linecap:square;stroke-linejoin:miter;stroke-width:1.12;\"/>\n   </g>\n   <g id=\"patch_4\">\n    <path d=\"M 389.957938 311.616 \nL 389.957938 7.2 \n\" style=\"fill:none;stroke:#888888;stroke-linecap:square;stroke-linejoin:miter;stroke-width:1.12;\"/>\n   </g>\n   <g id=\"patch_5\">\n    <path d=\"M 32.837938 311.616 \nL 389.957938 311.616 \n\" style=\"fill:none;stroke:#888888;stroke-linecap:square;stroke-linejoin:miter;stroke-width:1.12;\"/>\n   </g>\n   <g id=\"patch_6\">\n    <path d=\"M 32.837938 7.2 \nL 389.957938 7.2 \n\" style=\"fill:none;stroke:#888888;stroke-linecap:square;stroke-linejoin:miter;stroke-width:1.12;\"/>\n   </g>\n  </g>\n </g>\n <defs>\n  <clipPath id=\"pd71ce096e6\">\n   <rect height=\"304.416\" width=\"357.12\" x=\"32.837938\" y=\"7.2\"/>\n  </clipPath>\n </defs>\n</svg>\n",
      "image/png": "[encoded data removed]"
     },
     "metadata": {}
    }
   ],
   "source": [
    "plt.plot(x,u[:,1])"
   ]
  },
  {
   "cell_type": "code",
   "execution_count": null,
   "metadata": {},
   "outputs": [],
   "source": []
  }
 ]
}